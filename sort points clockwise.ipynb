{
 "cells": [
  {
   "cell_type": "code",
   "execution_count": 509,
   "metadata": {},
   "outputs": [],
   "source": [
    "points = [[120, 130], [115, 129], [114, 120], [113, 116], [112, 112], [111, 112], [110, 120], [109, 123], [108, 127], [107, 126], [106, 127], [105, 126], [104, 127], [103, 127], [102, 127], [101, 127], [100, 127], [99, 126], [98, 126], [97, 127], [96, 129], [95, 129], [93, 120], [91, 116], [90, 112], [89, 112], [88, 112], [87, 112], [86, 112], [85, 112], [84, 112], [83, 109], [82, 107], [81, 105], [80, 97], [78, 94], [77, 92], [76, 75], [72, 70], [71, 66], [70, 66], [69, 66], [68, 65], [67, 61], [66, 61], [65, 59], [64, 59], [63, 59], [62, 59], [61, 59], [60, 61], [59, 56], [58, 54], [57, 54], [56, 54], [55, 53], [54, 53], [53, 53], [52, 46], [51, 42], [50, 39], [49, 39], [48, 41], [47, 41], [46, 41], [45, 41], [44, 41], [43, 44], [42, 46], [41, 46], [40, 58], [33, 60], [32, 63], [31, 63], [30, 63], [29, 63], [28, 67], [27, 71], [26, 75], [25, 89], [24, 96], [23, 104], [22, 115], [21, 121], [20, 124], [19, 127], [18, 127], [17, 127], [16, 127], [2, 0], [114, 136], [113, 142], [112, 145], [111, 148], [110, 147], [109, 145], [92, 147], [91, 152], [90, 154], [89, 157], [88, 157], [87, 157], [86, 155], [85, 155], [84, 155], [83, 155], [82, 167], [81, 173], [80, 179], [79, 174], [78, 170], [77, 170], [76, 172], [75, 175], [74, 175], [73, 175], [72, 185], [71, 191], [70, 193], [69, 196], [68, 196], [67, 198], [66, 198], [65, 198], [64, 198], [63, 201], [62, 201], [61, 203], [60, 203], [59, 204], [58, 206], [57, 206], [56, 206], [55, 208], [54, 208], [53, 208], [52, 208], [51, 209], [50, 209], [49, 209], [48, 213], [47, 218], [46, 214], [45, 200], [44, 205], [43, 208], [42, 211], [41, 198], [40, 192], [39, 189], [38, 186], [37, 172], [36, 178], [33, 181], [32, 184], [31, 182], [30, 182], [29, 182], [28, 181], [27, 182], [26, 158], [25, 150], [24, 143], [23, 147], [22, 152], [21, 148], [20, 145], [19, 145], [18, 145], [16, 145], [15, 145], [14, 145], [13, 145], [12, 172], [11, 185], [10, 192], [9, 195], [8, 199], [7, 171], [6, 157], [5, 150], [4, 147], [3, 145], [2, 191]]"
   ]
  },
  {
   "cell_type": "code",
   "execution_count": 510,
   "metadata": {},
   "outputs": [],
   "source": [
    "points = [x + [0] for x in points]"
   ]
  },
  {
   "cell_type": "code",
   "execution_count": 511,
   "metadata": {},
   "outputs": [],
   "source": [
    "import cv2 \n",
    "import numpy as np\n",
    "import math\n",
    "import matplotlib.pyplot as plt\n",
    "image = cv2.imread(\"Results/points.jpg\")"
   ]
  },
  {
   "cell_type": "code",
   "execution_count": 512,
   "metadata": {},
   "outputs": [],
   "source": [
    "midx,midy = int(image.shape[0]/2),int(image.shape[1]/2)"
   ]
  },
  {
   "cell_type": "code",
   "execution_count": 513,
   "metadata": {},
   "outputs": [],
   "source": [
    "first = list()\n",
    "second = list()\n",
    "third = list()\n",
    "fourth = list()\n",
    "\n",
    "for i in points:\n",
    "    if i[0] <= midx and i[1] <= midy:\n",
    "        first.append(i)\n",
    "    elif i[0] > midx and i[1] < midy:\n",
    "        fourth.append(i)\n",
    "    elif i[0] < midx and i[1] > midy:\n",
    "        second.append(i)\n",
    "    elif i[0] > midx and i[1] > midy:\n",
    "        third.append(i)"
   ]
  },
  {
   "cell_type": "code",
   "execution_count": 514,
   "metadata": {
    "scrolled": true
   },
   "outputs": [],
   "source": [
    "for i in first:\n",
    "    i[2] = math.atan2(i[1],i[0])\n",
    "for i in second:\n",
    "     i[2] = math.atan2(i[1],i[0])\n",
    "for i in third:\n",
    "     i[2] = math.atan2(i[1],i[0])\n",
    "for i in fourth:\n",
    "     i[2] = math.atan2(i[1],i[0])\n",
    "    "
   ]
  },
  {
   "cell_type": "code",
   "execution_count": 515,
   "metadata": {},
   "outputs": [],
   "source": [
    "first.sort(key=lambda x: x[2],reverse=False)\n",
    "second.sort(key=lambda x: x[2],reverse=False)\n",
    "third.sort(key=lambda x: x[2],reverse=False)\n",
    "fourth.sort(key=lambda x: x[2],reverse=False)"
   ]
  },
  {
   "cell_type": "code",
   "execution_count": 516,
   "metadata": {
    "scrolled": true
   },
   "outputs": [],
   "source": [
    "for i in fourth:\n",
    "    del i[2]\n",
    "for i in first:\n",
    "    del i[2]\n",
    "for i in second:\n",
    "    del i[2]\n",
    "for i in third:\n",
    "    del i[2]\n"
   ]
  },
  {
   "cell_type": "code",
   "execution_count": 517,
   "metadata": {},
   "outputs": [],
   "source": [
    "p = list()\n",
    "for i in fourth:\n",
    "    p.append(i)\n",
    "for i in first:\n",
    "    p.append(i)\n",
    "for i in second:\n",
    "    p.append(i)\n",
    "for i in third:\n",
    "    p.append(i)"
   ]
  },
  {
   "cell_type": "markdown",
   "metadata": {},
   "source": [
    "def IsClockwise(vertices):\n",
    "    sum = 0.0;\n",
    "    for i in range(0,len(vertices)):\n",
    "        v1 = vertices[i]\n",
    "        v2 = vertices[(i + 1) % len(vertices)];\n",
    "        sum = sum + (v2[0] - v1[0]) * (v2[1] + v1[1]);\n",
    "    return sum > 0.0"
   ]
  },
  {
   "cell_type": "code",
   "execution_count": 575,
   "metadata": {
    "scrolled": true
   },
   "outputs": [
    {
     "name": "stdout",
     "output_type": "stream",
     "text": [
      "[array([65, 59]), array([67, 61]), array([64, 59]), array([66, 61]), array([71, 66]), array([63, 59]), array([70, 66]), array([68, 65]), array([69, 66]), array([72, 70]), array([76, 75]), array([112, 112]), array([111, 112]), array([113, 116]), array([114, 120]), array([120, 130]), array([110, 120]), array([115, 129]), array([109, 123]), array([108, 127]), array([107, 126]), array([77, 92]), array([106, 127]), array([105, 126]), array([78, 94]), array([80, 97]), array([104, 127]), array([103, 127]), array([ 90, 112]), array([102, 127]), array([101, 127]), array([ 89, 112]), array([100, 127]), array([ 99, 126]), array([ 88, 112]), array([ 91, 116]), array([ 98, 126]), array([ 87, 112]), array([ 93, 120]), array([ 81, 105]), array([ 86, 112]), array([ 82, 107]), array([ 97, 127]), array([ 83, 109]), array([ 85, 112]), array([ 84, 112]), array([ 96, 129]), array([ 95, 129]), array([2, 0]), array([50, 39]), array([49, 39]), array([51, 42]), array([48, 41]), array([47, 41]), array([52, 46]), array([46, 41]), array([45, 41]), array([58, 54]), array([44, 41]), array([57, 54]), array([59, 56]), array([62, 59]), array([55, 53]), array([56, 54]), array([61, 59]), array([54, 53]), array([53, 53]), array([60, 61]), array([43, 44]), array([42, 46]), array([41, 46]), array([40, 58]), array([33, 60]), array([32, 63]), array([31, 63]), array([30, 63]), array([29, 63]), array([28, 67]), array([27, 71]), array([26, 75]), array([25, 89]), array([24, 96]), array([ 23, 104]), array([ 22, 115]), array([ 21, 121]), array([ 20, 124]), array([ 19, 127]), array([ 18, 127]), array([ 17, 127]), array([ 16, 127]), array([ 61, 203]), array([ 60, 203]), array([ 59, 204]), array([ 58, 206]), array([ 57, 206]), array([ 56, 206]), array([ 55, 208]), array([ 54, 208]), array([ 53, 208]), array([ 52, 208]), array([ 51, 209]), array([ 50, 209]), array([ 49, 209]), array([ 48, 213]), array([ 45, 200]), array([ 47, 218]), array([ 37, 172]), array([ 46, 214]), array([ 44, 205]), array([ 40, 192]), array([ 41, 198]), array([ 43, 208]), array([ 39, 189]), array([ 38, 186]), array([ 36, 178]), array([ 42, 211]), array([ 33, 181]), array([ 32, 184]), array([ 31, 182]), array([ 24, 143]), array([ 25, 150]), array([ 30, 182]), array([ 26, 158]), array([ 29, 182]), array([ 23, 147]), array([ 28, 181]), array([ 27, 182]), array([ 22, 152]), array([ 21, 148]), array([ 20, 145]), array([ 19, 145]), array([ 18, 145]), array([ 16, 145]), array([ 15, 145]), array([ 14, 145]), array([ 13, 145]), array([ 12, 172]), array([ 11, 185]), array([ 10, 192]), array([  9, 195]), array([  7, 171]), array([  8, 199]), array([  6, 157]), array([  5, 150]), array([  4, 147]), array([  3, 145]), array([  2, 191]), array([114, 136]), array([113, 142]), array([112, 145]), array([109, 145]), array([111, 148]), array([110, 147]), array([ 92, 147]), array([ 91, 152]), array([ 90, 154]), array([ 89, 157]), array([ 88, 157]), array([ 86, 155]), array([ 87, 157]), array([ 85, 155]), array([ 84, 155]), array([ 83, 155]), array([ 82, 167]), array([ 81, 173]), array([ 78, 170]), array([ 79, 174]), array([ 77, 170]), array([ 80, 179]), array([ 76, 172]), array([ 75, 175]), array([ 74, 175]), array([ 73, 175]), array([ 72, 185]), array([ 71, 191]), array([ 70, 193]), array([ 69, 196]), array([ 68, 196]), array([ 67, 198]), array([ 66, 198]), array([ 65, 198]), array([ 64, 198]), array([ 63, 201])]\n"
     ]
    }
   ],
   "source": [
    "\n",
    "ctr = np.array(p).reshape((-1,1,2)).astype(np.int32) "
   ]
  },
  {
   "cell_type": "code",
   "execution_count": 578,
   "metadata": {},
   "outputs": [
    {
     "data": {
      "text/plain": [
       "True"
      ]
     },
     "execution_count": 578,
     "metadata": {},
     "output_type": "execute_result"
    }
   ],
   "source": [
    "img = cv2.drawContours(image, ctr, -1, (0,255,0), 3)\n",
    "cv2.imwrite(\"Results/c.jpg\",img)"
   ]
  },
  {
   "cell_type": "code",
   "execution_count": 518,
   "metadata": {},
   "outputs": [
    {
     "data": {
      "text/plain": [
       "True"
      ]
     },
     "execution_count": 518,
     "metadata": {},
     "output_type": "execute_result"
    }
   ],
   "source": [
    "vertical_img = image.copy()\n",
    "(h, w) = vertical_img.shape[:2]\n",
    "center = (w / 2, h / 2) \n",
    "angle180 = 270\n",
    "scale = 1.0\n",
    "M = cv2.getRotationMatrix2D(center, angle180, scale)\n",
    "rotated180 = cv2.warpAffine(vertical_img, M, (w, h))\n",
    "cv2.imwrite('Results/flipped.jpg',rotated180)"
   ]
  },
  {
   "cell_type": "code",
   "execution_count": 519,
   "metadata": {},
   "outputs": [
    {
     "data": {
      "text/plain": [
       "True"
      ]
     },
     "execution_count": 519,
     "metadata": {},
     "output_type": "execute_result"
    }
   ],
   "source": [
    "ellipse = cv2.fitEllipse(np.float32(p))\n",
    "im = cv2.ellipse(rotated180,ellipse,(0,255,0),2)\n",
    "cv2.imwrite(\"Results/ellipsefit.jpg\",im)"
   ]
  },
  {
   "cell_type": "code",
   "execution_count": 520,
   "metadata": {},
   "outputs": [
    {
     "data": {
      "text/plain": [
       "True"
      ]
     },
     "execution_count": 520,
     "metadata": {},
     "output_type": "execute_result"
    }
   ],
   "source": [
    "rect = cv2.minAreaRect(np.float32(p))\n",
    "box = cv2.boxPoints(rect)\n",
    "box = np.int0(box)\n",
    "im = cv2.drawContours(rotated180,[box],0,(0,0,255),2)\n",
    "cv2.imwrite('Results/rectfit.jpg',im)"
   ]
  },
  {
   "cell_type": "code",
   "execution_count": null,
   "metadata": {},
   "outputs": [],
   "source": []
  }
 ],
 "metadata": {
  "kernelspec": {
   "display_name": "Python 3",
   "language": "python",
   "name": "python3"
  },
  "language_info": {
   "codemirror_mode": {
    "name": "ipython",
    "version": 3
   },
   "file_extension": ".py",
   "mimetype": "text/x-python",
   "name": "python",
   "nbconvert_exporter": "python",
   "pygments_lexer": "ipython3",
   "version": "3.7.6"
  }
 },
 "nbformat": 4,
 "nbformat_minor": 2
}
