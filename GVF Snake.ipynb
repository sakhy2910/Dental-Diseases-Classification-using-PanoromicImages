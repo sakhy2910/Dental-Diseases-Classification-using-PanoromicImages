{
 "cells": [
  {
   "cell_type": "code",
   "execution_count": 29,
   "metadata": {},
   "outputs": [],
   "source": [
    "import numpy as np\n",
    "import cv2\n",
    "from matplotlib import pyplot as plt"
   ]
  },
  {
   "cell_type": "code",
   "execution_count": 77,
   "metadata": {},
   "outputs": [
    {
     "data": {
      "text/plain": [
       "True"
      ]
     },
     "execution_count": 77,
     "metadata": {},
     "output_type": "execute_result"
    }
   ],
   "source": [
    "image = cv2.imread(\"output/Enhanced1.jpg\",0)\n",
    "w,r=image.shape\n",
    "image=cv2.resize(image,(int(r/50),int(w/50)))\n",
    "cv2.imwrite('output/resize.jpg',image)\n",
    "image=cv2.resize(image,(r,w))\n",
    "cv2.imwrite('output/resize.jpg',image)"
   ]
  },
  {
   "cell_type": "code",
   "execution_count": 71,
   "metadata": {},
   "outputs": [
    {
     "data": {
      "text/plain": [
       "True"
      ]
     },
     "execution_count": 71,
     "metadata": {},
     "output_type": "execute_result"
    }
   ],
   "source": [
    "Z = image.reshape((-1,3))\n",
    "Z = np.float32(Z)\n",
    "criteria = (cv2.TERM_CRITERIA_EPS + cv2.TERM_CRITERIA_MAX_ITER, 10, 1.0)\n",
    "K = 4\n",
    "ret,label,center=cv2.kmeans(Z,K,None,criteria,10,cv2.KMEANS_RANDOM_CENTERS)\n",
    "center = np.uint8(center)\n",
    "res = center[label.flatten()]\n",
    "res2 = res.reshape((image.shape))\n",
    "cv2.imwrite('output/K-Means.jpg',res2)"
   ]
  },
  {
   "cell_type": "code",
   "execution_count": 32,
   "metadata": {},
   "outputs": [
    {
     "data": {
      "text/plain": [
       "True"
      ]
     },
     "execution_count": 32,
     "metadata": {},
     "output_type": "execute_result"
    }
   ],
   "source": [
    "res2 = cv2.cvtColor(res2,cv2.COLOR_BGR2GRAY)\n",
    "blur = cv2.GaussianBlur(res2,(5,5),0)\n",
    "ret3,th3 = cv2.threshold(blur,0,255,cv2.THRESH_BINARY+cv2.THRESH_OTSU)\n",
    "cv2.imwrite(\"output/thresholding.jpg\",th3)"
   ]
  },
  {
   "cell_type": "code",
   "execution_count": 78,
   "metadata": {},
   "outputs": [],
   "source": [
    "\n",
    "ret3,th3 = cv2.threshold(image,80,255,cv2.THRESH_BINARY)\n",
    "cv2.imwrite(\"output/patching.jpg\",th3)\n",
    "sizeX = th3.shape[1]\n",
    "sizeY = th3.shape[0]\n",
    "nRows = 150\n",
    "mCols = 150\n",
    "x_increment = int(sizeY/nRows)\n",
    "y_increment = int(sizeX/mCols)"
   ]
  },
  {
   "cell_type": "code",
   "execution_count": 73,
   "metadata": {},
   "outputs": [
    {
     "data": {
      "text/plain": [
       "True"
      ]
     },
     "execution_count": 73,
     "metadata": {},
     "output_type": "execute_result"
    }
   ],
   "source": [
    "for i in range(0,nRows):\n",
    "    for j in range(0, mCols):\n",
    "        roi = th3[int(i*x_increment):int(i*x_increment + x_increment) ,int(j*y_increment):int(j*y_increment + y_increment)]\n",
    "        count = cv2.countNonZero(roi)\n",
    "        if 100*count/roi.size >= 60:\n",
    "            th3[int(i*x_increment):int(i*x_increment + x_increment) ,int(j*y_increment):int(j*y_increment + y_increment)] = 255\n",
    "        else:\n",
    "            th3[int(i*x_increment):int(i*x_increment + x_increment) ,int(j*y_increment):int(j*y_increment + y_increment)] = 0\n",
    "cv2.imwrite(\"output/patching.jpg\",th3)"
   ]
  },
  {
   "cell_type": "code",
   "execution_count": 60,
   "metadata": {},
   "outputs": [],
   "source": [
    "pixeled = th3\n",
    "rows =  pixeled.shape[0]\n",
    "cols = pixeled.shape[1]"
   ]
  },
  {
   "cell_type": "code",
   "execution_count": 61,
   "metadata": {
    "scrolled": true
   },
   "outputs": [
    {
     "data": {
      "text/plain": [
       "True"
      ]
     },
     "execution_count": 61,
     "metadata": {},
     "output_type": "execute_result"
    }
   ],
   "source": [
    "points = list()\n",
    "lower_jaw = pixeled.copy()\n",
    "#jaw lowest point\n",
    "for i in range(rows-15,0,-1):\n",
    "    for j in range(int(cols*3/4),int(cols/2),-1):\n",
    "        if pixeled[i][j] == 255:\n",
    "            points.append((i,j))\n",
    "            flag = 1\n",
    "            break\n",
    "        else:\n",
    "            flag = 0\n",
    "    if flag == 1:\n",
    "        break\n",
    "        \n",
    "#midpoint\n",
    "mid1 = [points[0][0],int(points[0][1] + ((pixeled.shape[1] - points[0][1]) /2))]\n",
    "mid2 = [points[0][0],int(((points[0][1]) /2))] \n",
    "lower_jaw[mid1[0],mid1[1]] = 150\n",
    "lower_jaw[mid2[0],mid2[1]] = 150\n",
    "r = points[0][0]\n",
    "for i in range(r-1,1,-1):\n",
    "    midr = mid1[1]\n",
    "    midl = mid2[1]\n",
    "    lower_jaw[i][midr] = 150\n",
    "    lower_jaw[i][midl] = 150\n",
    "    for j in range(midr,0,-1):\n",
    "        if pixeled[i][j] == 255:\n",
    "            lower_jaw[i][j] = 200\n",
    "            points.append((i,j))\n",
    "            break\n",
    "    for j in range(midl,pixeled.shape[1]):\n",
    "        if pixeled[i][j] == 255:\n",
    "            lower_jaw[i][j] = 200\n",
    "            points.append((i,j))\n",
    "            break\n",
    "        \n",
    "cv2.imwrite('output/lower_jaw.jpg',lower_jaw)           "
   ]
  },
  {
   "cell_type": "code",
   "execution_count": 62,
   "metadata": {},
   "outputs": [
    {
     "data": {
      "text/plain": [
       "True"
      ]
     },
     "execution_count": 62,
     "metadata": {},
     "output_type": "execute_result"
    }
   ],
   "source": [
    "black = np.zeros((pixeled.shape[0],pixeled.shape[1],3))\n",
    "for i,j in points:\n",
    "    black[i][j] = [255,0,0]\n",
    "cv2.imwrite('output/points.jpg',black)"
   ]
  },
  {
   "cell_type": "markdown",
   "metadata": {},
   "source": [
    "equalized1 = cv2.equalizeHist(image)\n",
    "image = equalized1"
   ]
  },
  {
   "cell_type": "markdown",
   "metadata": {},
   "source": [
    "clahe = cv2.createCLAHE(clipLimit=2.0, tileGridSize=(8,8))\n",
    "equalized = clahe.apply(image)\n",
    "filtered = cv2.medianBlur(equalized,3)\n",
    "#ret2,th2 = cv2.threshold(filtered,0,255,cv2.THRESH_BINARY+cv2.THRESH_OTSU)\n",
    "image = filtered\n",
    "G = image.copy()\n",
    "for i in range(5,0,-1):\n",
    "    G = cv2.pyrDown(G)\n",
    "kernel = np.ones((5,5),np.uint8)\n",
    "opening = cv2.morphologyEx(thresh, cv2.MORPH_OPEN, kernel)\n",
    "#for i in range(5,0,-1):\n",
    "   # G = cv2.pyrUp(G)\n",
    "image = opening\n",
    "cv2.imwrite(\"Results/enhanced_image.jpg\",image)"
   ]
  },
  {
   "cell_type": "markdown",
   "metadata": {},
   "source": [
    "ret, thresh = cv2.threshold(image,0,255,cv2.THRESH_BINARY+cv2.THRESH_OTSU)\n",
    "image = cv2.reshape(thresh,image1.shape)\n",
    "#image = cv2.resize(thresh,(width,height))"
   ]
  },
  {
   "cell_type": "markdown",
   "metadata": {},
   "source": [
    "image = image.reshape(-1,3)\n",
    "Z = np.float32(image)\n",
    "\n",
    "# Define criteria = ( type, max_iter = 10 , epsilon = 1.0 )\n",
    "criteria = (cv2.TERM_CRITERIA_EPS + cv2.TERM_CRITERIA_MAX_ITER, 10, 1.0)\n",
    "\n",
    "# Set flags (Just to avoid line break in the code)\n",
    "flags = cv2.KMEANS_RANDOM_CENTERS\n",
    "\n",
    "# Apply KMeans\n",
    "compactness,labels,centers = cv2.kmeans(Z,2,None,criteria,10,flags)\n",
    "res = centers[labels.flatten()]\n",
    "res2 = res.reshape(image1.shape)\n",
    "cv2.imwrite(\"kmeans.jpg\", res2)"
   ]
  },
  {
   "cell_type": "markdown",
   "metadata": {},
   "source": [
    "contours, hierarchy = cv2.findContours(image, cv2.RETR_TREE, cv2.CHAIN_APPROX_SIMPLE)\n",
    "new_image = cv2.drawContours(image, contours, -1, (100,255,50), 3)\n",
    "cv2.imwrite('counting.jpg',new_image)"
   ]
  },
  {
   "cell_type": "markdown",
   "metadata": {},
   "source": [
    "image = img_as_float(image)\n",
    "# Initial level set\n",
    "init_ls = checkerboard_level_set(image.shape, 6)\n",
    "# List with intermediate results for plotting the evolution\n",
    "evolution = []\n",
    "callback = store_evolution_in(evolution)\n",
    "ls = morphological_chan_vese(image, 35, init_level_set=init_ls, smoothing=3,\n",
    "                             iter_callback=callback)\n",
    "#ontours = scipy.sparse.csr_matrix.toarray(ls)\n",
    "\n",
    "fig, axes = plt.subplots(2, 2, figsize=(8, 8))\n",
    "ax = axes.flatten()\n",
    "\n",
    "ax[0].imshow(image, cmap=\"gray\")\n",
    "ax[0].set_axis_off()\n",
    "image1 = ax[0].contour(ls, [0.5], colors='r')\n",
    "ax[0].set_title(\"Morphological ACWE segmentation\", fontsize=12)\n",
    "\n",
    "ax[1].imshow(ls, cmap=\"gray\")\n",
    "ax[1].set_axis_off()\n",
    "title = \"Morphological ACWE evolution\"\n",
    "ax[1].set_title(title, fontsize=12)\n",
    "\n"
   ]
  },
  {
   "cell_type": "markdown",
   "metadata": {},
   "source": [
    "#print(type(contours))\n",
    "#print(len(ls[20]))\n",
    "#print(evolution[-1])\n",
    "#brect = cv2.boundingRect(contours)"
   ]
  },
  {
   "cell_type": "markdown",
   "metadata": {},
   "source": [
    "#cv2.imwrite(\"morph1.jpg\" , ls)"
   ]
  },
  {
   "cell_type": "markdown",
   "metadata": {},
   "source": [
    "#jaw = cv2.bitwise_and(image,image,mask = ls)\n",
    "#cv2.imwrite('jaw2.jpg' , jaw)"
   ]
  }
 ],
 "metadata": {
  "kernelspec": {
   "display_name": "Python 3",
   "language": "python",
   "name": "python3"
  },
  "language_info": {
   "codemirror_mode": {
    "name": "ipython",
    "version": 3
   },
   "file_extension": ".py",
   "mimetype": "text/x-python",
   "name": "python",
   "nbconvert_exporter": "python",
   "pygments_lexer": "ipython3",
   "version": "3.7.6"
  }
 },
 "nbformat": 4,
 "nbformat_minor": 2
}
